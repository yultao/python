{
 "cells": [
  {
   "cell_type": "code",
   "execution_count": 5,
   "metadata": {},
   "outputs": [],
   "source": [
    "import tensorflow as tf\n",
    "from tensorflow.examples.tutorials.mnist import input_data"
   ]
  },
  {
   "cell_type": "code",
   "execution_count": 9,
   "metadata": {},
   "outputs": [
    {
     "name": "stdout",
     "output_type": "stream",
     "text": [
      "Extracting MNIST_data\\train-images-idx3-ubyte.gz\n",
      "Extracting MNIST_data\\train-labels-idx1-ubyte.gz\n",
      "Extracting MNIST_data\\t10k-images-idx3-ubyte.gz\n",
      "Extracting MNIST_data\\t10k-labels-idx1-ubyte.gz\n"
     ]
    }
   ],
   "source": [
    "#load data\n",
    "mnist = input_data.read_data_sets(\"MNIST_data\", one_hot=True)"
   ]
  },
  {
   "cell_type": "code",
   "execution_count": 12,
   "metadata": {},
   "outputs": [
    {
     "name": "stdout",
     "output_type": "stream",
     "text": [
      "epoch 0 accuracy: 0.8305\n",
      "epoch 1 accuracy: 0.8704\n",
      "epoch 2 accuracy: 0.882\n",
      "epoch 3 accuracy: 0.8882\n",
      "epoch 4 accuracy: 0.8942\n",
      "epoch 5 accuracy: 0.8963\n",
      "epoch 6 accuracy: 0.9006\n",
      "epoch 7 accuracy: 0.901\n",
      "epoch 8 accuracy: 0.902\n",
      "epoch 9 accuracy: 0.9047\n",
      "epoch 10 accuracy: 0.906\n",
      "epoch 11 accuracy: 0.9072\n",
      "epoch 12 accuracy: 0.9076\n",
      "epoch 13 accuracy: 0.909\n",
      "epoch 14 accuracy: 0.9099\n",
      "epoch 15 accuracy: 0.9105\n",
      "epoch 16 accuracy: 0.9121\n",
      "epoch 17 accuracy: 0.9119\n",
      "epoch 18 accuracy: 0.9133\n",
      "epoch 19 accuracy: 0.9129\n",
      "epoch 20 accuracy: 0.914\n"
     ]
    }
   ],
   "source": [
    "batch_size = 100\n",
    "\n",
    "#nn: 784 - 10\n",
    "n_batch = mnist.train.num_examples // batch_size\n",
    "\n",
    "#for inputs\n",
    "x = tf.placeholder(tf.float32, [None, 784]) #nx784,和Andrew说的不一致\n",
    "y = tf.placeholder(tf.float32, [None, 10])\n",
    "\n",
    "#NN\n",
    "W = tf.Variable(tf.zeros([784, 10]))\n",
    "b = tf.Variable(tf.zeros([10]))\n",
    "prediction = tf.nn.softmax(tf.matmul(x, W) + b)\n",
    "\n",
    "#cost\n",
    "loss = tf.reduce_mean(tf.square(y - prediction))\n",
    "#losses = []\n",
    "\n",
    "train_step = tf.train.GradientDescentOptimizer(0.2).minimize(loss)\n",
    "\n",
    "# boolean list\n",
    "correct_prediction = tf.equal(tf.argmax(y,1), tf.argmax(prediction, 1))#index of max value \n",
    "\n",
    "accuracy = tf.reduce_mean(tf.cast(correct_prediction, tf.float32))\n",
    "\n",
    "with tf.Session() as sess:\n",
    "    sess.run(tf.global_variables_initializer())\n",
    "    # loop 21 times for each image\n",
    "    for epoch in range(21):\n",
    "        #loop all images, batch by batch\n",
    "        for batch in range(n_batch):\n",
    "            #get a batch of data with size = batch_size\n",
    "            batch_xs,batch_ys = mnist.train.next_batch(batch_size)\n",
    "            \n",
    "            sess.run(train_step, feed_dict={x:batch_xs, y: batch_ys})\n",
    "            #lost = sess.run(loss, feed_dict={x:batch_xs, y: batch_ys})\n",
    "            #losses.append(loss)\n",
    "        #print(\"loss:\", lost ,\"step\", i)\n",
    "        acc = sess.run(accuracy, feed_dict={x:mnist.test.images, y: mnist.test.labels})\n",
    "        print(\"epoch\", epoch, \"accuracy:\", acc)\n",
    "            \n"
   ]
  },
  {
   "cell_type": "code",
   "execution_count": null,
   "metadata": {},
   "outputs": [],
   "source": []
  }
 ],
 "metadata": {
  "kernelspec": {
   "display_name": "Python 3",
   "language": "python",
   "name": "python3"
  },
  "language_info": {
   "codemirror_mode": {
    "name": "ipython",
    "version": 3
   },
   "file_extension": ".py",
   "mimetype": "text/x-python",
   "name": "python",
   "nbconvert_exporter": "python",
   "pygments_lexer": "ipython3",
   "version": "3.6.2"
  }
 },
 "nbformat": 4,
 "nbformat_minor": 2
}
