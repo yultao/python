{
 "cells": [
  {
   "cell_type": "code",
   "execution_count": 1,
   "metadata": {},
   "outputs": [
    {
     "name": "stdout",
     "output_type": "stream",
     "text": [
      "Extracting MNIST_data\\train-images-idx3-ubyte.gz\n",
      "Extracting MNIST_data\\train-labels-idx1-ubyte.gz\n",
      "Extracting MNIST_data\\t10k-images-idx3-ubyte.gz\n",
      "Extracting MNIST_data\\t10k-labels-idx1-ubyte.gz\n"
     ]
    }
   ],
   "source": [
    "import tensorflow as tf\n",
    "from tensorflow.examples.tutorials.mnist import input_data\n",
    "#load data\n",
    "mnist = input_data.read_data_sets(\"MNIST_data\", one_hot=True)"
   ]
  },
  {
   "cell_type": "code",
   "execution_count": 8,
   "metadata": {},
   "outputs": [
    {
     "name": "stdout",
     "output_type": "stream",
     "text": [
      "epoch 0 , train accuracy: 0.853745 , test accuracy: 0.852\n",
      "epoch 1 , train accuracy: 0.865236 , test accuracy: 0.8596\n",
      "epoch 2 , train accuracy: 0.873109 , test accuracy: 0.8671\n",
      "epoch 3 , train accuracy: 0.962764 , test accuracy: 0.9563\n",
      "epoch 4 , train accuracy: 0.970109 , test accuracy: 0.9621\n",
      "epoch 5 , train accuracy: 0.974382 , test accuracy: 0.9637\n",
      "epoch 6 , train accuracy: 0.977291 , test accuracy: 0.965\n",
      "epoch 7 , train accuracy: 0.979582 , test accuracy: 0.9667\n",
      "epoch 8 , train accuracy: 0.982164 , test accuracy: 0.97\n",
      "epoch 9 , train accuracy: 0.984036 , test accuracy: 0.9699\n",
      "epoch 10 , train accuracy: 0.985564 , test accuracy: 0.9706\n",
      "epoch 11 , train accuracy: 0.986509 , test accuracy: 0.9724\n",
      "epoch 12 , train accuracy: 0.987382 , test accuracy: 0.9728\n",
      "epoch 13 , train accuracy: 0.988455 , test accuracy: 0.9739\n",
      "epoch 14 , train accuracy: 0.988855 , test accuracy: 0.9745\n",
      "epoch 15 , train accuracy: 0.989309 , test accuracy: 0.9755\n",
      "epoch 16 , train accuracy: 0.989636 , test accuracy: 0.9749\n",
      "epoch 17 , train accuracy: 0.990164 , test accuracy: 0.976\n",
      "epoch 18 , train accuracy: 0.9908 , test accuracy: 0.9761\n",
      "epoch 19 , train accuracy: 0.990945 , test accuracy: 0.9758\n",
      "epoch 20 , train accuracy: 0.991091 , test accuracy: 0.9759\n"
     ]
    }
   ],
   "source": [
    "batch_size = 100\n",
    "\n",
    "#nn: 784 - 10\n",
    "n_batch = mnist.train.num_examples // batch_size\n",
    "\n",
    "#for inputs\n",
    "x = tf.placeholder(tf.float32, [None, 784]) #nx784,和Andrew说的不一致\n",
    "y = tf.placeholder(tf.float32, [None, 10])\n",
    "keep_prob = tf.placeholder(tf.float32)\n",
    "\n",
    "#NN\n",
    "W1 = tf.Variable(tf.truncated_normal([784, 1000], stddev=0.1))\n",
    "b1 = tf.Variable(tf.zeros([1000])+0.1)\n",
    "a1 = tf.nn.tanh(tf.matmul(x, W1) + b1) # nx100\n",
    "a1_dropout = tf.nn.dropout(a1, keep_prob)\n",
    "\n",
    "W2 = tf.Variable(tf.truncated_normal([1000, 600], stddev=0.1))\n",
    "b2 = tf.Variable(tf.zeros([600])+0.1)\n",
    "a2 = tf.nn.tanh(tf.matmul(a1_dropout, W2) + b2) # nx60\n",
    "a2_dropout = tf.nn.dropout(a2, keep_prob)\n",
    "\n",
    "W3 = tf.Variable(tf.truncated_normal([600, 10], stddev=0.1))\n",
    "b3 = tf.Variable(tf.zeros([10])+0.1)\n",
    "a3 = tf.nn.softmax(tf.matmul(a2_dropout, W3) + b3)\n",
    "\n",
    "prediction = a3\n",
    "\n",
    "#cost\n",
    "# loss = tf.reduce_mean(tf.square(y - prediction))\n",
    "loss = tf.reduce_mean(tf.nn.softmax_cross_entropy_with_logits(labels=y, logits=prediction))\n",
    "#softmax - cross entropy\n",
    "#sigmoid - cross entropy\n",
    "#linear - quadratic\n",
    "\n",
    "#losses = []\n",
    "\n",
    "train_step = tf.train.GradientDescentOptimizer(0.2).minimize(loss)\n",
    "\n",
    "# boolean list\n",
    "correct_prediction = tf.equal(tf.argmax(y,1), tf.argmax(prediction, 1))#index of max value \n",
    "\n",
    "accuracy = tf.reduce_mean(tf.cast(correct_prediction, tf.float32))\n",
    "\n",
    "with tf.Session() as sess:\n",
    "    sess.run(tf.global_variables_initializer())\n",
    "    # loop 21 times for each image\n",
    "    for epoch in range(21):\n",
    "        #loop all images, batch by batch\n",
    "        for batch in range(n_batch):\n",
    "            #get a batch of data with size = batch_size\n",
    "            batch_xs,batch_ys = mnist.train.next_batch(batch_size)\n",
    "            \n",
    "            sess.run(train_step, feed_dict={x:batch_xs, y: batch_ys, keep_prob: 0.7})\n",
    "            #lost = sess.run(loss, feed_dict={x:batch_xs, y: batch_ys})\n",
    "            #losses.append(loss)\n",
    "        #print(\"loss:\", lost ,\"step\", i)\n",
    "        train_acc = sess.run(accuracy, feed_dict={x:mnist.train.images, y: mnist.train.labels, keep_prob: 1.0})\n",
    "        test_acc = sess.run(accuracy, feed_dict={x:mnist.test.images, y: mnist.test.labels, keep_prob: 1.0})\n",
    "        print(\"epoch\", epoch, \", train accuracy:\", train_acc, \", test accuracy:\", test_acc)\n",
    "            \n"
   ]
  },
  {
   "cell_type": "code",
   "execution_count": null,
   "metadata": {},
   "outputs": [],
   "source": []
  }
 ],
 "metadata": {
  "kernelspec": {
   "display_name": "Python 3",
   "language": "python",
   "name": "python3"
  },
  "language_info": {
   "codemirror_mode": {
    "name": "ipython",
    "version": 3
   },
   "file_extension": ".py",
   "mimetype": "text/x-python",
   "name": "python",
   "nbconvert_exporter": "python",
   "pygments_lexer": "ipython3",
   "version": "3.6.2"
  }
 },
 "nbformat": 4,
 "nbformat_minor": 2
}
