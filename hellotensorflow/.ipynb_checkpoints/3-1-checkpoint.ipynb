{
 "cells": [
  {
   "cell_type": "code",
   "execution_count": 1,
   "metadata": {},
   "outputs": [],
   "source": [
    "import tensorflow as tf\n",
    "import numpy as np\n",
    "import matplotlib.pyplot as plt"
   ]
  },
  {
   "cell_type": "code",
   "execution_count": 6,
   "metadata": {},
   "outputs": [
    {
     "name": "stdout",
     "output_type": "stream",
     "text": [
      "loss: 0.0542146 step 0\n",
      "loss: 0.0940581 step 100\n",
      "loss: 0.00701653 step 200\n",
      "loss: 0.0012413 step 300\n",
      "loss: 0.000916896 step 400\n",
      "loss: 0.000849256 step 500\n",
      "loss: 0.000797634 step 600\n",
      "loss: 0.000752507 step 700\n",
      "loss: 0.000712783 step 800\n",
      "loss: 0.000677722 step 900\n",
      "loss: 0.000646707 step 1000\n",
      "loss: 0.000619214 step 1100\n",
      "loss: 0.000594797 step 1200\n",
      "loss: 0.000573073 step 1300\n",
      "loss: 0.000553716 step 1400\n",
      "loss: 0.000536439 step 1500\n",
      "loss: 0.000520999 step 1600\n",
      "loss: 0.000507182 step 1700\n",
      "loss: 0.0004948 step 1800\n",
      "loss: 0.000483693 step 1900\n"
     ]
    },
    {
     "data": {
      "image/png": "[encoded data removed]",
      "text/plain": [
       "<matplotlib.figure.Figure at 0x28178af3e10>"
      ]
     },
     "metadata": {},
     "output_type": "display_data"
    }
   ],
   "source": [
    "#sample\n",
    "x_data = np.linspace(-0.5, 0.5, 200)[:,np.newaxis] # 200x1\n",
    "noise = np.random.normal(0, 0.02, x_data.shape)\n",
    "y_data = np.square(x_data) + noise\n",
    "\n",
    "# place holders\n",
    "x = tf.placeholder(tf.float32, [None, 1])# any row x1\n",
    "y = tf.placeholder(tf.float32, [None, 1])# any row x1\n",
    "\n",
    "# simple nn 1 ~ 10 ~ 1\n",
    "#hidden layer\n",
    "Weights_L1 = tf.Variable(tf.random_normal([1, 10]))\n",
    "biases_L1 = tf.Variable(tf.zeros([1, 10]))\n",
    "Wx_plus_b_L1 = tf.matmul(x, Weights_L1) + biases_L1 # 200x1 * 1x10 = 200x10 + 1x10?\n",
    "L1 = tf.nn.tanh(Wx_plus_b_L1)\n",
    "\n",
    "#output layer\n",
    "Weights_L2 = tf.Variable(tf.random_normal([10, 1]))\n",
    "biases_L2 = tf.Variable(tf.zeros([1, 1]))\n",
    "Wx_plus_b_L2 = tf.matmul(L1, Weights_L2) + biases_L2 # 200x10 * 10x1 = 200x10 + 1x1?\n",
    "prediction = tf.nn.tanh(Wx_plus_b_L2)\n",
    "\n",
    "# cost function\n",
    "loss = tf.reduce_mean(tf.square(y - prediction))\n",
    "\n",
    "losses = []\n",
    "# optimizer algorithm\n",
    "optimizer = tf.train.GradientDescentOptimizer(0.1)\n",
    "\n",
    "train_step = optimizer.minimize(loss)\n",
    "\n",
    "init = tf.global_variables_initializer()\n",
    "\n",
    "\n",
    "with tf.Session() as sess:\n",
    "    sess.run(init)\n",
    "    for i in range(2000):\n",
    "        sess.run(train_step, feed_dict={x:x_data, y: y_data})\n",
    "        lost = sess.run(loss, feed_dict={x:x_data, y: y_data})\n",
    "        losses.append(loss)\n",
    "        if i%100==0 :\n",
    "            print(\"loss:\", lost ,\"step\", i)\n",
    "    #prediction\n",
    "    prediction_value = sess.run(prediction, feed_dict={x:x_data})\n",
    "    plt.figure()\n",
    "    plt.scatter(x_data,y_data)\n",
    "    plt.plot(x_data,prediction_value, 'r-', lw=5)\n",
    "    plt.plot(losses)\n",
    "    plt.show()\n",
    "    "
   ]
  },
  {
   "cell_type": "code",
   "execution_count": null,
   "metadata": {},
   "outputs": [],
   "source": []
  }
 ],
 "metadata": {
  "kernelspec": {
   "display_name": "Python 3",
   "language": "python",
   "name": "python3"
  },
  "language_info": {
   "codemirror_mode": {
    "name": "ipython",
    "version": 3
   },
   "file_extension": ".py",
   "mimetype": "text/x-python",
   "name": "python",
   "nbconvert_exporter": "python",
   "pygments_lexer": "ipython3",
   "version": "3.6.2"
  }
 },
 "nbformat": 4,
 "nbformat_minor": 2
}
