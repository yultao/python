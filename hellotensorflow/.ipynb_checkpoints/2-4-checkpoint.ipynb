{
 "cells": [
  {
   "cell_type": "code",
   "execution_count": 5,
   "metadata": {},
   "outputs": [],
   "source": [
    "import tensorflow as tf\n",
    "import numpy as np\n",
    "import matplotlib.pyplot as plt"
   ]
  },
  {
   "cell_type": "code",
   "execution_count": 6,
   "metadata": {},
   "outputs": [
    {
     "name": "stdout",
     "output_type": "stream",
     "text": [
      "0 [0.047300141, 0.097884052]\n",
      "20 [0.098443031, 0.2007505]\n",
      "40 [0.099137343, 0.20041595]\n",
      "60 [0.099522002, 0.20023048]\n",
      "80 [0.099735148, 0.20012771]\n",
      "100 [0.099853255, 0.20007075]\n",
      "120 [0.099918701, 0.20003919]\n",
      "140 [0.099954948, 0.20002171]\n",
      "160 [0.099975049, 0.20001203]\n",
      "180 [0.099986166, 0.20000666]\n",
      "200 [0.099992342, 0.2000037]\n"
     ]
    }
   ],
   "source": [
    "# 100 random points\n",
    "x_data = np.random.rand(100)\n",
    "y_data = x_data*0.1+0.2\n",
    "\n",
    "#linear model\n",
    "b = tf.Variable(0.0) # to be optimized\n",
    "k = tf.Variable(0.0) # to be optimized\n",
    "y = k*x_data + b # predict value\n",
    "\n",
    "#loss function\n",
    "loss = tf.reduce_mean(tf.square(y_data-y))\n",
    "\n",
    "#gradient descent\n",
    "optimizer = tf.train.GradientDescentOptimizer(0.2)\n",
    "\n",
    "#minimize \n",
    "train = optimizer.minimize(loss)\n",
    "\n",
    "#init variables\n",
    "init = tf.global_variables_initializer()\n",
    "\n",
    "losses = []\n",
    "with tf.Session() as sess:\n",
    "    sess.run(init)\n",
    "    for step in range(201):\n",
    "        sess.run(train)\n",
    "        if step%20 == 0:\n",
    "            print(step, sess.run([k,b]))\n",
    "            losses.append(sess.run(loss))"
   ]
  },
  {
   "cell_type": "code",
   "execution_count": 10,
   "metadata": {},
   "outputs": [
    {
     "data": {
      "image/png": "[encoded data removed]",
      "text/plain": [
       "<matplotlib.figure.Figure at 0x2a778c01ac8>"
      ]
     },
     "metadata": {},
     "output_type": "display_data"
    }
   ],
   "source": [
    "# plot the cost\n",
    "plt.plot(np.squeeze(losses))\n",
    "plt.ylabel('cost')\n",
    "plt.xlabel('epochs (per 100)')\n",
    "plt.title(\"Learning rate = 0.2\")\n",
    "plt.show()"
   ]
  },
  {
   "cell_type": "code",
   "execution_count": null,
   "metadata": {},
   "outputs": [],
   "source": []
  }
 ],
 "metadata": {
  "kernelspec": {
   "display_name": "Python 3",
   "language": "python",
   "name": "python3"
  },
  "language_info": {
   "codemirror_mode": {
    "name": "ipython",
    "version": 3
   },
   "file_extension": ".py",
   "mimetype": "text/x-python",
   "name": "python",
   "nbconvert_exporter": "python",
   "pygments_lexer": "ipython3",
   "version": "3.6.2"
  }
 },
 "nbformat": 4,
 "nbformat_minor": 2
}
